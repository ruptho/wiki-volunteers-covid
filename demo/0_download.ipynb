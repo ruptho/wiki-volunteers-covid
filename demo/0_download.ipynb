{
 "cells": [
  {
   "cell_type": "code",
   "execution_count": 1,
   "metadata": {},
   "outputs": [],
   "source": [
    "import sys\n",
    "\n",
    "sys.path.append('/home/jovyan/work')\n",
    "%load_ext autoreload\n",
    "%autoreload 2"
   ]
  },
  {
   "cell_type": "code",
   "execution_count": 2,
   "metadata": {},
   "outputs": [],
   "source": [
    "import wget\n",
    "from helpers.vars import CODES, DUMPS_PATH\n",
    "from helpers.logger import Logger\n",
    "from pathlib import Path"
   ]
  },
  {
   "cell_type": "code",
   "execution_count": 5,
   "metadata": {},
   "outputs": [],
   "source": [
    "# Configure to the dump you want to download\n",
    "DUMP_URL=f'https://dumps.wikimedia.org/other/mediawiki_history'\n",
    "DUMP_VERSION = '2021-07'\n",
    "DUMP_FE = 'tsv.bz2'\n",
    "YEARS = [2018, 2019, 2020]\n",
    "\n",
    "# create dir if not existent\n",
    "Path(f'{DUMPS_PATH}').mkdir(parents=True, exist_ok=True)"
   ]
  },
  {
   "cell_type": "code",
   "execution_count": 6,
   "metadata": {},
   "outputs": [
    {
     "name": "stderr",
     "output_type": "stream",
     "text": [
      "08-20 09:22 : INFO : Processing pl...\n",
      "08-20 09:22 : INFO : Download https://dumps.wikimedia.org/other/mediawiki_history/2021-07/plwiki/2021-07.plwiki.all-time.tsv.bz2...\n",
      "08-20 09:22 : INFO : ERROR - PROBABLY EXPECTED: No all-times file for pl.\n",
      "08-20 09:22 : INFO : Download https://dumps.wikimedia.org/other/mediawiki_history/2021-07/plwiki/2021-07.plwiki.2018.tsv.bz2...\n",
      "08-20 09:23 : INFO : Download https://dumps.wikimedia.org/other/mediawiki_history/2021-07/plwiki/2021-07.plwiki.2019.tsv.bz2...\n",
      "08-20 09:24 : INFO : Download https://dumps.wikimedia.org/other/mediawiki_history/2021-07/plwiki/2021-07.plwiki.2020.tsv.bz2...\n",
      "08-20 09:25 : INFO : Processing uk...\n",
      "08-20 09:25 : INFO : Download https://dumps.wikimedia.org/other/mediawiki_history/2021-07/ukwiki/2021-07.ukwiki.all-time.tsv.bz2...\n",
      "08-20 09:25 : INFO : ERROR - PROBABLY EXPECTED: No all-times file for uk.\n",
      "08-20 09:25 : INFO : Download https://dumps.wikimedia.org/other/mediawiki_history/2021-07/ukwiki/2021-07.ukwiki.2018.tsv.bz2...\n",
      "08-20 09:26 : INFO : Download https://dumps.wikimedia.org/other/mediawiki_history/2021-07/ukwiki/2021-07.ukwiki.2019.tsv.bz2...\n",
      "08-20 09:26 : INFO : Download https://dumps.wikimedia.org/other/mediawiki_history/2021-07/ukwiki/2021-07.ukwiki.2020.tsv.bz2...\n",
      "08-20 09:27 : INFO : Processing ru...\n",
      "08-20 09:27 : INFO : Download https://dumps.wikimedia.org/other/mediawiki_history/2021-07/ruwiki/2021-07.ruwiki.all-time.tsv.bz2...\n",
      "08-20 09:27 : INFO : ERROR - PROBABLY EXPECTED: No all-times file for ru.\n",
      "08-20 09:27 : INFO : Download https://dumps.wikimedia.org/other/mediawiki_history/2021-07/ruwiki/2021-07.ruwiki.2018.tsv.bz2...\n",
      "08-20 09:29 : INFO : Download https://dumps.wikimedia.org/other/mediawiki_history/2021-07/ruwiki/2021-07.ruwiki.2019.tsv.bz2...\n",
      "08-20 09:31 : INFO : Download https://dumps.wikimedia.org/other/mediawiki_history/2021-07/ruwiki/2021-07.ruwiki.2020.tsv.bz2...\n",
      "08-20 09:34 : INFO : Processing cs...\n",
      "08-20 09:34 : INFO : Download https://dumps.wikimedia.org/other/mediawiki_history/2021-07/cswiki/2021-07.cswiki.all-time.tsv.bz2...\n",
      "08-20 09:34 : INFO : ERROR - PROBABLY EXPECTED: No all-times file for cs.\n",
      "08-20 09:34 : INFO : Download https://dumps.wikimedia.org/other/mediawiki_history/2021-07/cswiki/2021-07.cswiki.2018.tsv.bz2...\n",
      "08-20 09:34 : INFO : Download https://dumps.wikimedia.org/other/mediawiki_history/2021-07/cswiki/2021-07.cswiki.2019.tsv.bz2...\n",
      "08-20 09:34 : INFO : Download https://dumps.wikimedia.org/other/mediawiki_history/2021-07/cswiki/2021-07.cswiki.2020.tsv.bz2...\n"
     ]
    }
   ],
   "source": [
    "# Download dumps\n",
    "CODES = ['pl', 'uk', 'ru', 'cs']\n",
    "month = 0\n",
    "for code in CODES:\n",
    "    # enable download for wikisource and smaller wikis\n",
    "    code_full = f'{code}wiki' if len(code) == 2 else code\n",
    "    Logger.instance().info(f'Processing {code}...')\n",
    "    try:\n",
    "        # quickfix for wikisource and smaller wikis\n",
    "        url = f'{DUMP_URL}/{DUMP_VERSION}/{code_full}/{DUMP_VERSION}.{code_full}.all-time.{DUMP_FE}'\n",
    "        loc = f'{DUMPS_PATH}/{code}.{DUMP_FE}'\n",
    "        Logger.instance().info(f'Download {url}...')\n",
    "        wget.download(url, loc)\n",
    "    except:\n",
    "        Logger.instance().info(f'ERROR - PROBABLY EXPECTED: No all-times file for {code}.')\n",
    "        for year in YEARS:\n",
    "            try:\n",
    "                if code != 'en':\n",
    "                    url = f'{DUMP_URL}/{DUMP_VERSION}/{code_full}/{DUMP_VERSION}.{code_full}.{year}.{DUMP_FE}'\n",
    "                    loc = f'{DUMPS_PATH}/{code}-{year}.{DUMP_FE}'\n",
    "                    Logger.instance().info(f'Download {url}...')\n",
    "                    wget.download(url, loc)\n",
    "                else:\n",
    "                    url = f'{DUMP_URL}/{DUMP_VERSION}/{code_full}/{DUMP_VERSION}.{code_full}.{year}-{month:02d}.{DUMP_FE}'\n",
    "                    loc = f'{DUMPS_PATH}/{code}-{year}-{month:02d}.{DUMP_FE}'\n",
    "                    Logger.instance().info(f'Download {url}...')\n",
    "                    wget.download(url, loc)\n",
    "            except:\n",
    "                Logger.instance().info(f'Error when downloading {code}-{year}-{month}')"
   ]
  }
 ],
 "metadata": {
  "kernelspec": {
   "display_name": "Python 3",
   "language": "python",
   "name": "python3"
  },
  "language_info": {
   "codemirror_mode": {
    "name": "ipython",
    "version": 3
   },
   "file_extension": ".py",
   "mimetype": "text/x-python",
   "name": "python",
   "nbconvert_exporter": "python",
   "pygments_lexer": "ipython3",
   "version": "3.7.10"
  },
  "pycharm": {
   "stem_cell": {
    "cell_type": "raw",
    "metadata": {
     "collapsed": false
    },
    "source": []
   }
  }
 },
 "nbformat": 4,
 "nbformat_minor": 4
}
