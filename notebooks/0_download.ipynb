{
 "cells": [
  {
   "cell_type": "code",
   "execution_count": 1,
   "metadata": {},
   "outputs": [],
   "source": [
    "import sys\n",
    "\n",
    "sys.path.append('/home/jovyan/work')\n",
    "%load_ext autoreload\n",
    "%autoreload 2"
   ]
  },
  {
   "cell_type": "code",
   "execution_count": 4,
   "metadata": {},
   "outputs": [],
   "source": [
    "import wget\n",
    "from helpers.vars import CODES, DUMPS_PATH\n",
    "from helpers.logger import Logger\n",
    "from pathlib import Path"
   ]
  },
  {
   "cell_type": "code",
   "execution_count": 6,
   "metadata": {},
   "outputs": [],
   "source": [
    "# Configure to the dump you want to download\n",
    "DUMP_URL=f'https://dumps.wikimedia.org/other/mediawiki_history'\n",
    "DUMP_VERSION = '2020-11'\n",
    "DUMP_FE = 'tsv.bz2'\n",
    "YEARS = [2018, 2019, 2020]\n",
    "\n",
    "# create dir if not existent\n",
    "Path(f'{DUMPS_PATH}').mkdir(parents=True, exist_ok=True)"
   ]
  },
  {
   "cell_type": "code",
   "execution_count": 7,
   "metadata": {},
   "outputs": [
    {
     "name": "stderr",
     "output_type": "stream",
     "text": [
      "12-07 09:08 : INFO : Processing de...\n",
      "12-07 09:08 : INFO : Download https://dumps.wikimedia.org/other/mediawiki_history/2020-11/dewiki/2020-11.dewiki.2018.tsv.bz2...\n",
      "12-07 09:12 : INFO : Download https://dumps.wikimedia.org/other/mediawiki_history/2020-11/dewiki/2020-11.dewiki.2019.tsv.bz2...\n",
      "12-07 09:15 : INFO : Download https://dumps.wikimedia.org/other/mediawiki_history/2020-11/dewiki/2020-11.dewiki.2020.tsv.bz2...\n",
      "12-07 09:18 : INFO : Processing fr...\n",
      "12-07 09:18 : INFO : Download https://dumps.wikimedia.org/other/mediawiki_history/2020-11/frwiki/2020-11.frwiki.2018.tsv.bz2...\n",
      "12-07 09:22 : INFO : Download https://dumps.wikimedia.org/other/mediawiki_history/2020-11/frwiki/2020-11.frwiki.2019.tsv.bz2...\n",
      "12-07 09:25 : INFO : Download https://dumps.wikimedia.org/other/mediawiki_history/2020-11/frwiki/2020-11.frwiki.2020.tsv.bz2...\n",
      "12-07 09:28 : INFO : Processing it...\n",
      "12-07 09:28 : INFO : Download https://dumps.wikimedia.org/other/mediawiki_history/2020-11/itwiki/2020-11.itwiki.2018.tsv.bz2...\n",
      "12-07 09:30 : INFO : Download https://dumps.wikimedia.org/other/mediawiki_history/2020-11/itwiki/2020-11.itwiki.2019.tsv.bz2...\n",
      "12-07 09:33 : INFO : Download https://dumps.wikimedia.org/other/mediawiki_history/2020-11/itwiki/2020-11.itwiki.2020.tsv.bz2...\n",
      "12-07 09:35 : INFO : Processing sr...\n",
      "12-07 09:35 : INFO : Download https://dumps.wikimedia.org/other/mediawiki_history/2020-11/srwiki/2020-11.srwiki.2018.tsv.bz2...\n",
      "12-07 09:36 : INFO : Download https://dumps.wikimedia.org/other/mediawiki_history/2020-11/srwiki/2020-11.srwiki.2019.tsv.bz2...\n",
      "12-07 09:36 : INFO : Download https://dumps.wikimedia.org/other/mediawiki_history/2020-11/srwiki/2020-11.srwiki.2020.tsv.bz2...\n",
      "12-07 09:36 : INFO : Processing no...\n",
      "12-07 09:36 : INFO : Download https://dumps.wikimedia.org/other/mediawiki_history/2020-11/nowiki/2020-11.nowiki.2018.tsv.bz2...\n",
      "12-07 09:37 : INFO : Download https://dumps.wikimedia.org/other/mediawiki_history/2020-11/nowiki/2020-11.nowiki.2019.tsv.bz2...\n",
      "12-07 09:37 : INFO : Download https://dumps.wikimedia.org/other/mediawiki_history/2020-11/nowiki/2020-11.nowiki.2020.tsv.bz2...\n",
      "12-07 09:37 : INFO : Processing ko...\n",
      "12-07 09:37 : INFO : Download https://dumps.wikimedia.org/other/mediawiki_history/2020-11/kowiki/2020-11.kowiki.2018.tsv.bz2...\n",
      "12-07 09:38 : INFO : Download https://dumps.wikimedia.org/other/mediawiki_history/2020-11/kowiki/2020-11.kowiki.2019.tsv.bz2...\n",
      "12-07 09:39 : INFO : Download https://dumps.wikimedia.org/other/mediawiki_history/2020-11/kowiki/2020-11.kowiki.2020.tsv.bz2...\n",
      "12-07 09:39 : INFO : Processing da...\n",
      "12-07 09:39 : INFO : Download https://dumps.wikimedia.org/other/mediawiki_history/2020-11/dawiki/2020-11.dawiki.2018.tsv.bz2...\n",
      "12-07 09:40 : INFO : Download https://dumps.wikimedia.org/other/mediawiki_history/2020-11/dawiki/2020-11.dawiki.2019.tsv.bz2...\n",
      "12-07 09:40 : INFO : Download https://dumps.wikimedia.org/other/mediawiki_history/2020-11/dawiki/2020-11.dawiki.2020.tsv.bz2...\n",
      "12-07 09:40 : INFO : Processing sv...\n",
      "12-07 09:40 : INFO : Download https://dumps.wikimedia.org/other/mediawiki_history/2020-11/svwiki/2020-11.svwiki.2018.tsv.bz2...\n",
      "12-07 09:40 : INFO : Download https://dumps.wikimedia.org/other/mediawiki_history/2020-11/svwiki/2020-11.svwiki.2019.tsv.bz2...\n",
      "12-07 09:41 : INFO : Download https://dumps.wikimedia.org/other/mediawiki_history/2020-11/svwiki/2020-11.svwiki.2020.tsv.bz2...\n",
      "12-07 09:42 : INFO : Processing ja...\n",
      "12-07 09:42 : INFO : Download https://dumps.wikimedia.org/other/mediawiki_history/2020-11/jawiki/2020-11.jawiki.2018.tsv.bz2...\n",
      "12-07 09:43 : INFO : Download https://dumps.wikimedia.org/other/mediawiki_history/2020-11/jawiki/2020-11.jawiki.2019.tsv.bz2...\n",
      "12-07 09:45 : INFO : Download https://dumps.wikimedia.org/other/mediawiki_history/2020-11/jawiki/2020-11.jawiki.2020.tsv.bz2...\n",
      "12-07 09:46 : INFO : Processing nl...\n",
      "12-07 09:46 : INFO : Download https://dumps.wikimedia.org/other/mediawiki_history/2020-11/nlwiki/2020-11.nlwiki.2018.tsv.bz2...\n",
      "12-07 09:47 : INFO : Download https://dumps.wikimedia.org/other/mediawiki_history/2020-11/nlwiki/2020-11.nlwiki.2019.tsv.bz2...\n",
      "12-07 09:48 : INFO : Download https://dumps.wikimedia.org/other/mediawiki_history/2020-11/nlwiki/2020-11.nlwiki.2020.tsv.bz2...\n",
      "12-07 09:48 : INFO : Processing fi...\n",
      "12-07 09:48 : INFO : Download https://dumps.wikimedia.org/other/mediawiki_history/2020-11/fiwiki/2020-11.fiwiki.2018.tsv.bz2...\n",
      "12-07 09:49 : INFO : Download https://dumps.wikimedia.org/other/mediawiki_history/2020-11/fiwiki/2020-11.fiwiki.2019.tsv.bz2...\n",
      "12-07 09:49 : INFO : Download https://dumps.wikimedia.org/other/mediawiki_history/2020-11/fiwiki/2020-11.fiwiki.2020.tsv.bz2...\n",
      "12-07 09:49 : INFO : Processing en...\n",
      "12-07 09:49 : INFO : Download https://dumps.wikimedia.org/other/mediawiki_history/2020-11/enwiki/2020-11.enwiki.2018-01.tsv.bz2...\n",
      "12-07 09:51 : INFO : Download https://dumps.wikimedia.org/other/mediawiki_history/2020-11/enwiki/2020-11.enwiki.2018-02.tsv.bz2...\n",
      "12-07 09:53 : INFO : Download https://dumps.wikimedia.org/other/mediawiki_history/2020-11/enwiki/2020-11.enwiki.2018-03.tsv.bz2...\n",
      "12-07 09:55 : INFO : Download https://dumps.wikimedia.org/other/mediawiki_history/2020-11/enwiki/2020-11.enwiki.2018-04.tsv.bz2...\n",
      "12-07 09:57 : INFO : Download https://dumps.wikimedia.org/other/mediawiki_history/2020-11/enwiki/2020-11.enwiki.2018-05.tsv.bz2...\n",
      "12-07 09:59 : INFO : Download https://dumps.wikimedia.org/other/mediawiki_history/2020-11/enwiki/2020-11.enwiki.2018-06.tsv.bz2...\n",
      "12-07 10:00 : INFO : Download https://dumps.wikimedia.org/other/mediawiki_history/2020-11/enwiki/2020-11.enwiki.2018-07.tsv.bz2...\n",
      "12-07 10:02 : INFO : Download https://dumps.wikimedia.org/other/mediawiki_history/2020-11/enwiki/2020-11.enwiki.2018-08.tsv.bz2...\n",
      "12-07 10:04 : INFO : Download https://dumps.wikimedia.org/other/mediawiki_history/2020-11/enwiki/2020-11.enwiki.2018-09.tsv.bz2...\n",
      "12-07 10:05 : INFO : Download https://dumps.wikimedia.org/other/mediawiki_history/2020-11/enwiki/2020-11.enwiki.2018-10.tsv.bz2...\n",
      "12-07 10:07 : INFO : Download https://dumps.wikimedia.org/other/mediawiki_history/2020-11/enwiki/2020-11.enwiki.2018-11.tsv.bz2...\n",
      "12-07 10:09 : INFO : Download https://dumps.wikimedia.org/other/mediawiki_history/2020-11/enwiki/2020-11.enwiki.2018-12.tsv.bz2...\n",
      "12-07 10:11 : INFO : Download https://dumps.wikimedia.org/other/mediawiki_history/2020-11/enwiki/2020-11.enwiki.2019-01.tsv.bz2...\n",
      "12-07 10:13 : INFO : Download https://dumps.wikimedia.org/other/mediawiki_history/2020-11/enwiki/2020-11.enwiki.2019-02.tsv.bz2...\n",
      "12-07 10:14 : INFO : Download https://dumps.wikimedia.org/other/mediawiki_history/2020-11/enwiki/2020-11.enwiki.2019-03.tsv.bz2...\n",
      "12-07 10:16 : INFO : Download https://dumps.wikimedia.org/other/mediawiki_history/2020-11/enwiki/2020-11.enwiki.2019-04.tsv.bz2...\n",
      "12-07 10:18 : INFO : Download https://dumps.wikimedia.org/other/mediawiki_history/2020-11/enwiki/2020-11.enwiki.2019-05.tsv.bz2...\n",
      "12-07 10:19 : INFO : Download https://dumps.wikimedia.org/other/mediawiki_history/2020-11/enwiki/2020-11.enwiki.2019-06.tsv.bz2...\n",
      "12-07 10:21 : INFO : Download https://dumps.wikimedia.org/other/mediawiki_history/2020-11/enwiki/2020-11.enwiki.2019-07.tsv.bz2...\n",
      "12-07 10:23 : INFO : Download https://dumps.wikimedia.org/other/mediawiki_history/2020-11/enwiki/2020-11.enwiki.2019-08.tsv.bz2...\n",
      "12-07 10:24 : INFO : Download https://dumps.wikimedia.org/other/mediawiki_history/2020-11/enwiki/2020-11.enwiki.2019-09.tsv.bz2...\n",
      "12-07 10:26 : INFO : Download https://dumps.wikimedia.org/other/mediawiki_history/2020-11/enwiki/2020-11.enwiki.2019-10.tsv.bz2...\n",
      "12-07 10:28 : INFO : Download https://dumps.wikimedia.org/other/mediawiki_history/2020-11/enwiki/2020-11.enwiki.2019-11.tsv.bz2...\n",
      "12-07 10:30 : INFO : Download https://dumps.wikimedia.org/other/mediawiki_history/2020-11/enwiki/2020-11.enwiki.2019-12.tsv.bz2...\n",
      "12-07 10:32 : INFO : Download https://dumps.wikimedia.org/other/mediawiki_history/2020-11/enwiki/2020-11.enwiki.2020-01.tsv.bz2...\n",
      "12-07 10:34 : INFO : Download https://dumps.wikimedia.org/other/mediawiki_history/2020-11/enwiki/2020-11.enwiki.2020-02.tsv.bz2...\n",
      "12-07 10:35 : INFO : Download https://dumps.wikimedia.org/other/mediawiki_history/2020-11/enwiki/2020-11.enwiki.2020-03.tsv.bz2...\n",
      "12-07 10:37 : INFO : Download https://dumps.wikimedia.org/other/mediawiki_history/2020-11/enwiki/2020-11.enwiki.2020-04.tsv.bz2...\n",
      "12-07 10:39 : INFO : Download https://dumps.wikimedia.org/other/mediawiki_history/2020-11/enwiki/2020-11.enwiki.2020-05.tsv.bz2...\n",
      "12-07 10:42 : INFO : Download https://dumps.wikimedia.org/other/mediawiki_history/2020-11/enwiki/2020-11.enwiki.2020-06.tsv.bz2...\n",
      "12-07 10:44 : INFO : Download https://dumps.wikimedia.org/other/mediawiki_history/2020-11/enwiki/2020-11.enwiki.2020-07.tsv.bz2...\n",
      "12-07 10:45 : INFO : Download https://dumps.wikimedia.org/other/mediawiki_history/2020-11/enwiki/2020-11.enwiki.2020-08.tsv.bz2...\n",
      "12-07 10:47 : INFO : Download https://dumps.wikimedia.org/other/mediawiki_history/2020-11/enwiki/2020-11.enwiki.2020-09.tsv.bz2...\n",
      "12-07 10:49 : INFO : Download https://dumps.wikimedia.org/other/mediawiki_history/2020-11/enwiki/2020-11.enwiki.2020-10.tsv.bz2...\n",
      "12-07 10:51 : INFO : Download https://dumps.wikimedia.org/other/mediawiki_history/2020-11/enwiki/2020-11.enwiki.2020-11.tsv.bz2...\n",
      "12-07 10:53 : INFO : Download https://dumps.wikimedia.org/other/mediawiki_history/2020-11/enwiki/2020-11.enwiki.2020-12.tsv.bz2...\n"
     ]
    }
   ],
   "source": [
    "# Download dumps\n",
    "month = 0\n",
    "for code in CODES:\n",
    "    # enable download for wikisource and smaller wikis\n",
    "    code_full = f'{code}wiki' if len(code) == 2 else code\n",
    "    Logger.instance().info(f'Processing {code}...')\n",
    "    try:\n",
    "        # quickfix for wikisource and smaller wikis\n",
    "        url = f'{DUMP_URL}/{DUMP_VERSION}/{code_full}/{DUMP_VERSION}.{code_full}.all-time.{DUMP_FE}'\n",
    "        loc = f'{DUMPS_PATH}/{code}.{DUMP_FE}'\n",
    "        Logger.instance().info(f'Download {url}...')\n",
    "        wget.download(url, loc)\n",
    "    except:\n",
    "        Logger.instance().info(f'ERROR - PROBABLY EXPECTED: No all-times file for {code}.')\n",
    "        for year in YEARS:\n",
    "            try:\n",
    "                if code != 'en':\n",
    "                    url = f'{DUMP_URL}/{DUMP_VERSION}/{code_full}/{DUMP_VERSION}.{code_full}.{year}.{DUMP_FE}'\n",
    "                    loc = f'{DUMPS_PATH}/{code}-{year}.{DUMP_FE}'\n",
    "                    Logger.instance().info(f'Download {url}...')\n",
    "                    wget.download(url, loc)\n",
    "                else:\n",
    "                    url = f'{DUMP_URL}/{DUMP_VERSION}/{code_full}/{DUMP_VERSION}.{code_full}.{year}-{month:02d}.{DUMP_FE}'\n",
    "                    loc = f'{DUMPS_PATH}/{code}-{year}-{month:02d}.{DUMP_FE}'\n",
    "                    Logger.instance().info(f'Download {url}...')\n",
    "                    wget.download(url, loc)\n",
    "            except:\n",
    "                Logger.instance().info(f'Error when downloading {code}-{year}-{month}')"
   ]
  }
 ],
 "metadata": {
  "kernelspec": {
   "display_name": "Python 3",
   "language": "python",
   "name": "python3"
  },
  "language_info": {
   "codemirror_mode": {
    "name": "ipython",
    "version": 3
   },
   "file_extension": ".py",
   "mimetype": "text/x-python",
   "name": "python",
   "nbconvert_exporter": "python",
   "pygments_lexer": "ipython3",
   "version": "3.7.6"
  },
  "pycharm": {
   "stem_cell": {
    "cell_type": "raw",
    "source": [],
    "metadata": {
     "collapsed": false
    }
   }
  }
 },
 "nbformat": 4,
 "nbformat_minor": 4
}